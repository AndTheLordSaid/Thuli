{
  "nbformat": 4,
  "nbformat_minor": 0,
  "metadata": {
    "colab": {
      "provenance": [],
      "authorship_tag": "ABX9TyNmk5qsZkDpPGPTibLtd9pJ"
    },
    "kernelspec": {
      "name": "python3",
      "display_name": "Python 3"
    },
    "language_info": {
      "name": "python"
    }
  },
  "cells": [
    {
      "cell_type": "code",
      "source": [
        "pip install python-telegram-bot"
      ],
      "metadata": {
        "colab": {
          "base_uri": "https://localhost:8080/"
        },
        "id": "QOrMRkbhwg-P",
        "outputId": "747f3187-bad6-4026-cfa0-46cfba26e404"
      },
      "execution_count": 1,
      "outputs": [
        {
          "output_type": "stream",
          "name": "stdout",
          "text": [
            "Looking in indexes: https://pypi.org/simple, https://us-python.pkg.dev/colab-wheels/public/simple/\n",
            "Requirement already satisfied: python-telegram-bot in /usr/local/lib/python3.8/dist-packages (13.15)\n",
            "Requirement already satisfied: cachetools==4.2.2 in /usr/local/lib/python3.8/dist-packages (from python-telegram-bot) (4.2.2)\n",
            "Requirement already satisfied: APScheduler==3.6.3 in /usr/local/lib/python3.8/dist-packages (from python-telegram-bot) (3.6.3)\n",
            "Requirement already satisfied: pytz>=2018.6 in /usr/local/lib/python3.8/dist-packages (from python-telegram-bot) (2022.6)\n",
            "Requirement already satisfied: certifi in /usr/local/lib/python3.8/dist-packages (from python-telegram-bot) (2022.12.7)\n",
            "Requirement already satisfied: tornado==6.1 in /usr/local/lib/python3.8/dist-packages (from python-telegram-bot) (6.1)\n",
            "Requirement already satisfied: setuptools>=0.7 in /usr/local/lib/python3.8/dist-packages (from APScheduler==3.6.3->python-telegram-bot) (57.4.0)\n",
            "Requirement already satisfied: tzlocal>=1.2 in /usr/local/lib/python3.8/dist-packages (from APScheduler==3.6.3->python-telegram-bot) (1.5.1)\n",
            "Requirement already satisfied: six>=1.4.0 in /usr/local/lib/python3.8/dist-packages (from APScheduler==3.6.3->python-telegram-bot) (1.15.0)\n"
          ]
        }
      ]
    },
    {
      "cell_type": "code",
      "source": [
        "# import the necessary packages\n",
        "import telegram \n",
        "import requests\n"
      ],
      "metadata": {
        "id": "a3oPClwC668w"
      },
      "execution_count": 2,
      "outputs": []
    },
    {
      "cell_type": "code",
      "execution_count": 3,
      "metadata": {
        "colab": {
          "base_uri": "https://localhost:8080/"
        },
        "id": "S2JQugXewUv0",
        "outputId": "c87c202d-a275-4ee6-c942-30503598fe22"
      },
      "outputs": [
        {
          "output_type": "execute_result",
          "data": {
            "text/plain": [
              "<queue.Queue at 0x7f910bfc2a90>"
            ]
          },
          "metadata": {},
          "execution_count": 3
        }
      ],
      "source": [
        "from telegram.ext import Updater, CommandHandler, MessageHandler, Filters\n",
        "# Create the Updater\n",
        "updater = Updater('5646954281:AAHjIFDt3rhux-XXx8WpAAHgVvpLkAjva8E', use_context=True)\n",
        "\n",
        "# Create the dispatcher\n",
        "dispatcher = updater.dispatcher\n",
        "\n",
        "# Create the Handler functions\n",
        "def start(update, context):\n",
        "    context.bot.send_message(chat_id=update.effective_chat.id, text=\"Hi! I'm 0dd Paraphraser. Please enter a paragraph you want to paraphrase.\")\n",
        "\n",
        "def spin(update, context):\n",
        "    url = \"https://paraphrase-genius.p.rapidapi.com/dev/paraphrase/\"\n",
        "\n",
        "    payload = {\n",
        "\t      \"text\": update.message.text,\n",
        "\t      \"result_type\": \"single\"\n",
        "    }\n",
        "    headers = {\n",
        "\t      \"content-type\": \"application/json\",\n",
        "\t      \"X-RapidAPI-Key\": \"ab16b834eamshc9fe0c3082fa298p14bbbbjsn85a85e256762\",\n",
        "\t      \"X-RapidAPI-Host\": \"paraphrase-genius.p.rapidapi.com\"\n",
        "    }\n",
        "\n",
        "    response = requests.request(\"POST\", url, json=payload, headers=headers)\n",
        "    context.bot.send_message(chat_id=update.effective_chat.id, text=response.text)\n",
        "\n",
        "def stop(update, context):\n",
        "    updater.stop()\n",
        "\n",
        "# Add the Handler functions to the dispatcher\n",
        "start_handler = CommandHandler('start', start)\n",
        "stop_handler = CommandHandler('stop',stop)\n",
        "spin_handler = MessageHandler(Filters.text, spin)\n",
        "\n",
        "\n",
        "# Add the dispatcher to the updater\n",
        "dispatcher.add_handler(start_handler)\n",
        "dispatcher.add_handler(stop_handler)\n",
        "dispatcher.add_handler(spin_handler)\n",
        "\n",
        "\n",
        "# Start the updater\n",
        "updater.start_polling()\n"
      ]
    },
    {
      "cell_type": "code",
      "source": [
        "updater.stop()"
      ],
      "metadata": {
        "id": "LqSjCPubi9aM"
      },
      "execution_count": null,
      "outputs": []
    }
  ]
}